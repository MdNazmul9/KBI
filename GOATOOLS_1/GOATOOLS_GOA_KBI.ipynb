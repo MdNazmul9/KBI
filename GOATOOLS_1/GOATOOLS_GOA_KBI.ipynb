{
 "cells": [
  {
   "cell_type": "code",
   "execution_count": 1,
   "metadata": {},
   "outputs": [
    {
     "name": "stdout",
     "output_type": "stream",
     "text": [
      "  EXISTS: go-basic.obo\n"
     ]
    }
   ],
   "source": [
    "# Get http://geneontology.org/ontology/go-basic.obo\n",
    "from goatools.base import download_go_basic_obo\n",
    "obo_fname = download_go_basic_obo()\n",
    "\n",
    "#from goatools.obo_parser import GODag\n",
    "#obodag = GODag(\"C:/Users/User/Documents/KBI_DATA/go-basic.obo\")'''\n",
    "\n",
    "#from goatools import *\n",
    "#obodag=obo_parser.GODag(\"C:/Users/User/Documents/KBI_DATA/go-basic.obo\")"
   ]
  },
  {
   "cell_type": "code",
   "execution_count": 2,
   "metadata": {},
   "outputs": [
    {
     "name": "stdout",
     "output_type": "stream",
     "text": [
      "  EXISTS: gene2go\n"
     ]
    }
   ],
   "source": [
    "# Get ftp://ftp.ncbi.nlm.nih.gov/gene/DATA/gene2go.gz\n",
    "from goatools.base import download_ncbi_associations\n",
    "fin_gene2go = download_ncbi_associations()"
   ]
  },
  {
   "cell_type": "code",
   "execution_count": 3,
   "metadata": {},
   "outputs": [
    {
     "name": "stdout",
     "output_type": "stream",
     "text": [
      "go-basic.obo: fmt(1.2) rel(2019-07-01) 47,413 GO Terms\n"
     ]
    }
   ],
   "source": [
    "from goatools.obo_parser import GODag\n",
    "\n",
    "obodag = GODag(\"go-basic.obo\")"
   ]
  },
  {
   "cell_type": "code",
   "execution_count": 4,
   "metadata": {},
   "outputs": [
    {
     "name": "stdout",
     "output_type": "stream",
     "text": [
      "HMS:0:00:05.873129 366,685 annotations READ: gene2go \n",
      "1 taxids stored: 10090\n",
      "MF 16,801 annotated mouse genes\n",
      "CC 18,979 annotated mouse genes\n",
      "BP 17,808 annotated mouse genes\n"
     ]
    }
   ],
   "source": [
    "from __future__ import print_function\n",
    "from goatools.anno.genetogo_reader import Gene2GoReader\n",
    "\n",
    "# Read NCBI's gene2go. Store annotations in a list of namedtuples\n",
    "objanno = Gene2GoReader(fin_gene2go, taxids=[10090])\n",
    "\n",
    "# Get namespace2association where:\n",
    "#    namespace is:\n",
    "#        BP: biological_process               \n",
    "#        MF: molecular_function\n",
    "#        CC: cellular_component\n",
    "#    assocation is a dict:\n",
    "#        key: NCBI GeneID\n",
    "#        value: A set of GO IDs associated with that gene\n",
    "ns2assoc = objanno.get_ns2assc()\n",
    "\n",
    "for nspc, id2gos in ns2assoc.items():\n",
    "    print(\"{NS} {N:,} annotated mouse genes\".format(NS=nspc, N=len(id2gos)))"
   ]
  },
  {
   "cell_type": "code",
   "execution_count": 5,
   "metadata": {},
   "outputs": [],
   "source": [
    "from goatools.test_data.genes_NCBI_10090_ProteinCoding import GENEID2NT as GeneID2nt_mus"
   ]
  },
  {
   "cell_type": "code",
   "execution_count": 6,
   "metadata": {},
   "outputs": [
    {
     "name": "stdout",
     "output_type": "stream",
     "text": [
      "\n",
      "Load BP Gene Ontology Analysis ...\n",
      "fisher module not installed.  Falling back on scipy.stats.fisher_exact\n",
      " 60% 16,810 of 28,212 population items found in association\n",
      "\n",
      "Load CC Gene Ontology Analysis ...\n",
      "fisher module not installed.  Falling back on scipy.stats.fisher_exact\n",
      " 65% 18,323 of 28,212 population items found in association\n",
      "\n",
      "Load MF Gene Ontology Analysis ...\n",
      "fisher module not installed.  Falling back on scipy.stats.fisher_exact\n",
      " 58% 16,419 of 28,212 population items found in association\n"
     ]
    }
   ],
   "source": [
    "from goatools.goea.go_enrichment_ns import GOEnrichmentStudyNS\n",
    "\n",
    "goeaobj = GOEnrichmentStudyNS(\n",
    "        GeneID2nt_mus.keys(), # List of mouse protein-coding genes\n",
    "        ns2assoc, # geneid/GO associations\n",
    "        obodag, # Ontologies\n",
    "        propagate_counts = False,\n",
    "        alpha = 0.05, # default significance cut-off\n",
    "        methods = ['fdr_bh']) # defult multipletest correction method"
   ]
  },
  {
   "cell_type": "code",
   "execution_count": 7,
   "metadata": {},
   "outputs": [
    {
     "name": "stdout",
     "output_type": "stream",
     "text": [
      "400 genes READ: C:/Users/User/Documents/KBI_DATA/nbt.3102-S4_GeneIDs.xlsx\n"
     ]
    }
   ],
   "source": [
    "# Data will be stored in this variable\n",
    "import os\n",
    "geneid2symbol = {}\n",
    "# Get xlsx filename where data is stored\n",
    "ROOT = os.path.dirname(os.getcwd()) # go up 1 level from current working directory\n",
    "din_xlsx = os.path.join(ROOT, \"C:/Users/User/Documents/KBI_DATA/nbt.3102-S4_GeneIDs.xlsx\")\n",
    "# Read data\n",
    "if os.path.isfile(din_xlsx):  \n",
    "    import xlrd\n",
    "    book = xlrd.open_workbook(din_xlsx)\n",
    "    pg = book.sheet_by_index(0)\n",
    "    for r in range(pg.nrows):\n",
    "        symbol, geneid, pval = [pg.cell_value(r, c) for c in range(pg.ncols)]\n",
    "        if geneid:\n",
    "            geneid2symbol[int(geneid)] = symbol\n",
    "    print('{N} genes READ: {XLSX}'.format(N=len(geneid2symbol), XLSX=din_xlsx))\n",
    "else:\n",
    "    raise RuntimeError('FILE NOT FOUND: {XLSX}'.format(XLSX=din_xlsx))"
   ]
  },
  {
   "cell_type": "code",
   "execution_count": 8,
   "metadata": {},
   "outputs": [
    {
     "name": "stdout",
     "output_type": "stream",
     "text": [
      "\n",
      "Run BP Gene Ontology Analysis: current study set of 400 IDs ...\n",
      " 94%    358 of    382 study items found in association\n",
      " 96%    382 of    400 study items found in population(28212)\n",
      "Calculating 12,237 uncorrected p-values using fisher_scipy_stats\n",
      "  12,237 GO terms are associated with 16,810 of 28,212 population items\n",
      "   2,083 GO terms are associated with    358 of    400 study items\n",
      "  METHOD fdr_bh:\n",
      "      72 GO terms found significant (< 0.05=alpha) ( 70 enriched +   2 purified): statsmodels fdr_bh\n",
      "     231 study items associated with significant GO IDs (enriched)\n",
      "       4 study items associated with significant GO IDs (purified)\n",
      "\n",
      "Run CC Gene Ontology Analysis: current study set of 400 IDs ...\n",
      " 98%    376 of    382 study items found in association\n",
      " 96%    382 of    400 study items found in population(28212)\n",
      "Calculating 1,735 uncorrected p-values using fisher_scipy_stats\n",
      "   1,735 GO terms are associated with 18,323 of 28,212 population items\n",
      "     446 GO terms are associated with    376 of    400 study items\n",
      "  METHOD fdr_bh:\n",
      "      90 GO terms found significant (< 0.05=alpha) ( 90 enriched +   0 purified): statsmodels fdr_bh\n",
      "     373 study items associated with significant GO IDs (enriched)\n",
      "       0 study items associated with significant GO IDs (purified)\n",
      "\n",
      "Run MF Gene Ontology Analysis: current study set of 400 IDs ...\n",
      " 88%    337 of    382 study items found in association\n",
      " 96%    382 of    400 study items found in population(28212)\n",
      "Calculating 4,137 uncorrected p-values using fisher_scipy_stats\n",
      "   4,137 GO terms are associated with 16,419 of 28,212 population items\n",
      "     582 GO terms are associated with    337 of    400 study items\n",
      "  METHOD fdr_bh:\n",
      "      55 GO terms found significant (< 0.05=alpha) ( 53 enriched +   2 purified): statsmodels fdr_bh\n",
      "     272 study items associated with significant GO IDs (enriched)\n",
      "       0 study items associated with significant GO IDs (purified)\n"
     ]
    }
   ],
   "source": [
    "# 'p_' means \"pvalue\". 'fdr_bh' is the multipletest method we are currently using.\n",
    "geneids_study = geneid2symbol.keys()\n",
    "goea_results_all = goeaobj.run_study(geneids_study)\n",
    "goea_results_sig = [r for r in goea_results_all if r.p_fdr_bh < 0.05]"
   ]
  },
  {
   "cell_type": "code",
   "execution_count": 9,
   "metadata": {},
   "outputs": [
    {
     "name": "stdout",
     "output_type": "stream",
     "text": [
      "    217 items WROTE: nbt3102.xlsx\n",
      "    217 GOEA results for   375 study items. WROTE: nbt3102.txt\n"
     ]
    }
   ],
   "source": [
    "goeaobj.wr_xlsx(\"nbt3102.xlsx\", goea_results_sig)\n",
    "goeaobj.wr_txt(\"nbt3102.txt\", goea_results_sig)"
   ]
  },
  {
   "cell_type": "code",
   "execution_count": 10,
   "metadata": {},
   "outputs": [
    {
     "name": "stdout",
     "output_type": "stream",
     "text": [
      "   72 usr 500 GOs  WROTE: C:/Users/User/Documents/KBI_DATA/nbt3102_BP.png\n",
      "   90 usr 182 GOs  WROTE: C:/Users/User/Documents/KBI_DATA/nbt3102_CC.png\n",
      "   55 usr 150 GOs  WROTE: C:/Users/User/Documents/KBI_DATA/nbt3102_MF.png\n"
     ]
    }
   ],
   "source": [
    "from goatools.godag_plot import plot_gos, plot_results, plot_goid2goobj\n",
    "\n",
    "plot_results(\"C:/Users/User/Documents/KBI_DATA/nbt3102_{NS}.png\", goea_results_sig)"
   ]
  },
  {
   "cell_type": "code",
   "execution_count": 11,
   "metadata": {},
   "outputs": [
    {
     "name": "stdout",
     "output_type": "stream",
     "text": [
      "    5 usr  13 GOs  WROTE: C:/Users/User/Documents/KBI_DATA/nbt3102_MF_RNA_genecnt.png\n"
     ]
    }
   ],
   "source": [
    "# Plot subset starting from these significant GO terms\n",
    "goid_subset = [\n",
    "    'GO:0003723', # MF D04 RNA binding (32 genes)\n",
    "    'GO:0044822', # MF D05 poly(A) RNA binding (86 genes)\n",
    "    'GO:0003729', # MF D06 mRNA binding (11 genes)\n",
    "    'GO:0019843', # MF D05 rRNA binding (6 genes)\n",
    "    'GO:0003746', # MF D06 translation elongation factor activity (5 genes)\n",
    "]\n",
    "plot_gos(\"C:/Users/User/Documents/KBI_DATA/nbt3102_MF_RNA_genecnt.png\", \n",
    "    goid_subset, # Source GO ids\n",
    "    obodag, \n",
    "    goea_results=goea_results_all) # Use pvals for coloring"
   ]
  },
  {
   "cell_type": "code",
   "execution_count": null,
   "metadata": {},
   "outputs": [],
   "source": []
  }
 ],
 "metadata": {
  "kernelspec": {
   "display_name": "Python 3",
   "language": "python",
   "name": "python3"
  },
  "language_info": {
   "codemirror_mode": {
    "name": "ipython",
    "version": 3
   },
   "file_extension": ".py",
   "mimetype": "text/x-python",
   "name": "python",
   "nbconvert_exporter": "python",
   "pygments_lexer": "ipython3",
   "version": "3.7.3"
  }
 },
 "nbformat": 4,
 "nbformat_minor": 2
}
