{
 "cells": [
  {
   "cell_type": "markdown",
   "metadata": {},
   "source": [
    "# COMP 364: Sequence Handling with BioPython\n",
    "\n",
    "\n",
    "## Warmup: OOP Practice\n",
    "\n",
    "Write a class that representas a Student with two attributes: name, and grade. Next, write a class called Course that represents the students in the course with two initial attribute: course name, and a list of Students, a max capacity (class attribute). The Course class can also compute the average of all the students grades and add a student to the course."
   ]
  },
  {
   "cell_type": "code",
   "execution_count": 1,
   "metadata": {},
   "outputs": [
    {
     "name": "stdout",
     "output_type": "stream",
     "text": [
      "COMP 364\n",
      "[]\n",
      "['Carlos']\n",
      "['Carlos', 'Chris']\n"
     ]
    }
   ],
   "source": [
    "import statistics\n",
    "\n",
    "class Student:\n",
    "    def __init__(self, name, grade):\n",
    "        self.name = name\n",
    "        self.grade = grade\n",
    "class Course:\n",
    "    max_capacity = 3\n",
    "    def __init__(self, name):\n",
    "        self.course_name = name\n",
    "        self.students = []\n",
    "    def add_student(self, student_name, grade):\n",
    "        if len(self.students) + 1 > Course.max_capacity:\n",
    "            print(\"Class is full\")\n",
    "        else:\n",
    "            self.students.append(Student(student_name, grade))\n",
    "    def class_avg(self):\n",
    "        return statistics.mean([s.grade for s in self.students])\n",
    "\n",
    "\n",
    "\n",
    "c = Course(\"COMP 364\")\n",
    "print(c.course_name)\n",
    "print(c.students)\n",
    "\n",
    "c.add_student(\"Carlos\", 3.4)\n",
    "c.add_student(\"Chris\", 4.0)\n",
    "c.class_avg()\n",
    "\n",
    "b = Course(\"COMP 202\")\n",
    "b.add_student(\"Carlos\", 1.2)\n",
    "\n",
    "print([student.name for student in b.students])\n",
    "print([student.name for student in c.students])"
   ]
  },
  {
   "cell_type": "markdown",
   "metadata": {},
   "source": [
    "# BioPython\n",
    "\n",
    "BioPython is a very popular third party Python package for handling biological data.\n",
    "\n",
    "In order to install:\n",
    "\n",
    "```\n",
    "conda install biopython\n",
    "```\n",
    "\n",
    "BioPython has three major functionalities:\n",
    "\n",
    "* Sequence Handling\n",
    "* 3D Structure\n",
    "* Population Genetics\n",
    "\n",
    "Today we'll cover sequence handling and next time we will do 3D structure handling, and if there is time we may do some Population Genetics.\n",
    "\n",
    "Some useful references: [tutorial](http://biopython.org/DIST/docs/tutorial/Tutorial.html), [website](http://biopython.org/), [wiki](http://biopython.org/wiki/Category%3AWiki_Documentation) (most of my examples are coming from these sources).\n",
    " \n",
    "# `BioPython.Seq`\n",
    "\n",
    "The main object we'll be dealing with are sequences. This is handled by the `Seq` class.\n",
    "\n",
    "As we know, we can have DNA, RNA, and Protein sequences.\n",
    "\n",
    "BioPython helps us cleanly distinguish and do different things with different kinds of sequences."
   ]
  },
  {
   "cell_type": "code",
   "execution_count": 2,
   "metadata": {},
   "outputs": [
    {
     "name": "stdout",
     "output_type": "stream",
     "text": [
      "<class 'Bio.Seq.Seq'>\n",
      "['alphabet', 'back_transcribe', 'complement', 'count', 'count_overlap', 'endswith', 'find', 'join', 'lower', 'lstrip', 'reverse_complement', 'rfind', 'rsplit', 'rstrip', 'split', 'startswith', 'strip', 'tomutable', 'transcribe', 'translate', 'ungap', 'upper']\n"
     ]
    }
   ],
   "source": [
    "#let's make a generic sequence\n",
    "\n",
    "from Bio.Seq import Seq\n",
    "\n",
    "my_seq = Seq(\"CCCGGAGAGA\")\n",
    "print(type(my_seq))\n",
    "#let's see what attributes this object has\n",
    "attributes = [a for a in dir(my_seq) if not a.startswith(\"_\")]\n",
    "print(attributes)"
   ]
  },
  {
   "cell_type": "markdown",
   "metadata": {},
   "source": [
    "It seems like there is a lot we can do with this object.\n",
    "\n",
    "The problem is at this point Python doesn't know what kind of sequence this is (DNA, RNA, Protein).\n",
    "\n",
    "We have to specify what kind of \"Alphabet\" the sequence belongs to."
   ]
  },
  {
   "cell_type": "code",
   "execution_count": 3,
   "metadata": {},
   "outputs": [
    {
     "name": "stdout",
     "output_type": "stream",
     "text": [
      "Alphabet()\n"
     ]
    }
   ],
   "source": [
    "#right now it has just a generic alphabet\n",
    "print(my_seq.alphabet)"
   ]
  },
  {
   "cell_type": "code",
   "execution_count": 4,
   "metadata": {},
   "outputs": [],
   "source": [
    "from Bio.Alphabet import generic_dna, generic_protein, generic_rna\n",
    "\n",
    "my_dna = Seq(\"CCCGGAGAG\", generic_dna)\n",
    "my_rna = Seq(\"ACCCGUUGU\", generic_rna)\n",
    "my_protein = Seq(\"AKKKGGGUUULL\", generic_protein)"
   ]
  },
  {
   "cell_type": "markdown",
   "metadata": {},
   "source": [
    "Biopython will now know the difference for example between a DNA base `A` for adenine and the protein residue `A` for alanine.\n",
    "\n",
    "Now we can do some cool things.\n",
    "\n",
    "We can perform the main actions of the central dogma: transcribe and translate."
   ]
  },
  {
   "cell_type": "code",
   "execution_count": 5,
   "metadata": {},
   "outputs": [
    {
     "name": "stdout",
     "output_type": "stream",
     "text": [
      "ACUAGCAGCGGA\n",
      "RNAAlphabet()\n",
      "TSSG\n",
      "ExtendedIUPACProtein()\n"
     ]
    }
   ],
   "source": [
    "my_gene = Seq(\"ACTAGCAGCGGA\", generic_dna)\n",
    "\n",
    "#get the mRNA\n",
    "\n",
    "my_transcript = my_gene.transcribe()\n",
    "print(my_transcript)\n",
    "print(my_transcript.alphabet)\n",
    "\n",
    "\n",
    "#get the protein from the mRNA\n",
    "my_protein = my_transcript.translate()\n",
    "print(my_protein)\n",
    "print(my_protein.alphabet)"
   ]
  },
  {
   "cell_type": "markdown",
   "metadata": {},
   "source": [
    "You can also go straight from the DNA to the protein."
   ]
  },
  {
   "cell_type": "code",
   "execution_count": 6,
   "metadata": {},
   "outputs": [
    {
     "name": "stdout",
     "output_type": "stream",
     "text": [
      "MAIVMGR*KGAR*\n"
     ]
    }
   ],
   "source": [
    "coding_dna = Seq(\"ATGGCCATTGTAATGGGCCGCTGAAAGGGTGCCCGATAG\", generic_dna)\n",
    "myprot = coding_dna.translate()\n",
    "print(myprot)"
   ]
  },
  {
   "cell_type": "markdown",
   "metadata": {},
   "source": [
    "As you can see, we got some STOP codons represented as `*` and translation continued.\n",
    "\n",
    "We can get translation to actually stop when it encounters a STOP codon."
   ]
  },
  {
   "cell_type": "code",
   "execution_count": 7,
   "metadata": {},
   "outputs": [
    {
     "name": "stdout",
     "output_type": "stream",
     "text": [
      "MAIVMGR\n"
     ]
    }
   ],
   "source": [
    "myprot = coding_dna.translate(to_stop=True)\n",
    "print(myprot)"
   ]
  },
  {
   "cell_type": "markdown",
   "metadata": {},
   "source": [
    "We can be even more realistic and only allow translation of valid genes (i.e. with a valid start and stop codon and proper number of bases).\n",
    "\n",
    "This is done by setting the `cds=True` keyword argument, which stands for \"coding sequence\".\n",
    "\n",
    "If we don't have a valid coding sequence, we get an exception."
   ]
  },
  {
   "cell_type": "code",
   "execution_count": 8,
   "metadata": {},
   "outputs": [
    {
     "ename": "TranslationError",
     "evalue": "Extra in frame stop codon found.",
     "output_type": "error",
     "traceback": [
      "\u001b[1;31m---------------------------------------------------------------------------\u001b[0m",
      "\u001b[1;31mKeyError\u001b[0m                                  Traceback (most recent call last)",
      "\u001b[1;32m~\\.conda\\envs\\tensorflow_Env\\lib\\site-packages\\Bio\\Seq.py\u001b[0m in \u001b[0;36m_translate_str\u001b[1;34m(sequence, table, stop_symbol, to_stop, cds, pos_stop, gap)\u001b[0m\n\u001b[0;32m   2726\u001b[0m         \u001b[1;32mtry\u001b[0m\u001b[1;33m:\u001b[0m\u001b[1;33m\u001b[0m\u001b[1;33m\u001b[0m\u001b[0m\n\u001b[1;32m-> 2727\u001b[1;33m             \u001b[0mamino_acids\u001b[0m\u001b[1;33m.\u001b[0m\u001b[0mappend\u001b[0m\u001b[1;33m(\u001b[0m\u001b[0mforward_table\u001b[0m\u001b[1;33m[\u001b[0m\u001b[0mcodon\u001b[0m\u001b[1;33m]\u001b[0m\u001b[1;33m)\u001b[0m\u001b[1;33m\u001b[0m\u001b[1;33m\u001b[0m\u001b[0m\n\u001b[0m\u001b[0;32m   2728\u001b[0m         \u001b[1;32mexcept\u001b[0m \u001b[1;33m(\u001b[0m\u001b[0mKeyError\u001b[0m\u001b[1;33m,\u001b[0m \u001b[0mCodonTable\u001b[0m\u001b[1;33m.\u001b[0m\u001b[0mTranslationError\u001b[0m\u001b[1;33m)\u001b[0m\u001b[1;33m:\u001b[0m\u001b[1;33m\u001b[0m\u001b[1;33m\u001b[0m\u001b[0m\n",
      "\u001b[1;32m~\\.conda\\envs\\tensorflow_Env\\lib\\site-packages\\Bio\\Data\\CodonTable.py\u001b[0m in \u001b[0;36m__getitem__\u001b[1;34m(self, codon)\u001b[0m\n\u001b[0;32m    409\u001b[0m             \u001b[1;32mif\u001b[0m \u001b[0mx\u001b[0m \u001b[1;32mis\u001b[0m \u001b[0mKeyError\u001b[0m\u001b[1;33m:\u001b[0m\u001b[1;33m\u001b[0m\u001b[1;33m\u001b[0m\u001b[0m\n\u001b[1;32m--> 410\u001b[1;33m                 \u001b[1;32mraise\u001b[0m \u001b[0mKeyError\u001b[0m\u001b[1;33m(\u001b[0m\u001b[0mcodon\u001b[0m\u001b[1;33m)\u001b[0m  \u001b[1;31m# it's a stop codon\u001b[0m\u001b[1;33m\u001b[0m\u001b[1;33m\u001b[0m\u001b[0m\n\u001b[0m\u001b[0;32m    411\u001b[0m             \u001b[1;32mreturn\u001b[0m \u001b[0mx\u001b[0m\u001b[1;33m\u001b[0m\u001b[1;33m\u001b[0m\u001b[0m\n",
      "\u001b[1;31mKeyError\u001b[0m: 'TGA'",
      "\nDuring handling of the above exception, another exception occurred:\n",
      "\u001b[1;31mTranslationError\u001b[0m                          Traceback (most recent call last)",
      "\u001b[1;32m<ipython-input-8-c32b2502db4f>\u001b[0m in \u001b[0;36m<module>\u001b[1;34m\u001b[0m\n\u001b[1;32m----> 1\u001b[1;33m \u001b[0mmyprot\u001b[0m \u001b[1;33m=\u001b[0m \u001b[0mcoding_dna\u001b[0m\u001b[1;33m.\u001b[0m\u001b[0mtranslate\u001b[0m\u001b[1;33m(\u001b[0m\u001b[0mcds\u001b[0m\u001b[1;33m=\u001b[0m\u001b[1;32mTrue\u001b[0m\u001b[1;33m)\u001b[0m\u001b[1;33m\u001b[0m\u001b[1;33m\u001b[0m\u001b[0m\n\u001b[0m",
      "\u001b[1;32m~\\.conda\\envs\\tensorflow_Env\\lib\\site-packages\\Bio\\Seq.py\u001b[0m in \u001b[0;36mtranslate\u001b[1;34m(self, table, stop_symbol, to_stop, cds, gap)\u001b[0m\n\u001b[0;32m   1192\u001b[0m \u001b[1;33m\u001b[0m\u001b[0m\n\u001b[0;32m   1193\u001b[0m         protein = _translate_str(str(self), codon_table, stop_symbol, to_stop,\n\u001b[1;32m-> 1194\u001b[1;33m                                  cds, gap=gap)\n\u001b[0m\u001b[0;32m   1195\u001b[0m \u001b[1;33m\u001b[0m\u001b[0m\n\u001b[0;32m   1196\u001b[0m         \u001b[1;32mif\u001b[0m \u001b[0mgap\u001b[0m \u001b[1;32mand\u001b[0m \u001b[0mgap\u001b[0m \u001b[1;32min\u001b[0m \u001b[0mprotein\u001b[0m\u001b[1;33m:\u001b[0m\u001b[1;33m\u001b[0m\u001b[1;33m\u001b[0m\u001b[0m\n",
      "\u001b[1;32m~\\.conda\\envs\\tensorflow_Env\\lib\\site-packages\\Bio\\Seq.py\u001b[0m in \u001b[0;36m_translate_str\u001b[1;34m(sequence, table, stop_symbol, to_stop, cds, pos_stop, gap)\u001b[0m\n\u001b[0;32m   2730\u001b[0m                 \u001b[1;32mif\u001b[0m \u001b[0mcds\u001b[0m\u001b[1;33m:\u001b[0m\u001b[1;33m\u001b[0m\u001b[1;33m\u001b[0m\u001b[0m\n\u001b[0;32m   2731\u001b[0m                     raise CodonTable.TranslationError(\n\u001b[1;32m-> 2732\u001b[1;33m                         \"Extra in frame stop codon found.\")\n\u001b[0m\u001b[0;32m   2733\u001b[0m                 \u001b[1;32mif\u001b[0m \u001b[0mto_stop\u001b[0m\u001b[1;33m:\u001b[0m\u001b[1;33m\u001b[0m\u001b[1;33m\u001b[0m\u001b[0m\n\u001b[0;32m   2734\u001b[0m                     \u001b[1;32mbreak\u001b[0m\u001b[1;33m\u001b[0m\u001b[1;33m\u001b[0m\u001b[0m\n",
      "\u001b[1;31mTranslationError\u001b[0m: Extra in frame stop codon found."
     ]
    }
   ],
   "source": [
    "myprot = coding_dna.translate(cds=True)"
   ]
  },
  {
   "cell_type": "code",
   "execution_count": null,
   "metadata": {},
   "outputs": [],
   "source": [
    "gene = Seq(\"ATGGCCATTGTAATGTAG\", generic_dna)\n",
    "gene.translate(cds=True)"
   ]
  },
  {
   "cell_type": "markdown",
   "metadata": {},
   "source": [
    "### General sequence methods\n",
    "\n",
    "There are some convenient operations for dealing with sequences."
   ]
  },
  {
   "cell_type": "markdown",
   "metadata": {},
   "source": [
    "We can concatenate sequences if they are of matching type."
   ]
  },
  {
   "cell_type": "code",
   "execution_count": null,
   "metadata": {},
   "outputs": [],
   "source": [
    "seq1 = Seq(\"AAACGGA\", generic_dna)\n",
    "seq2 = Seq(\"GGAGAT\", generic_dna)\n",
    "\n",
    "seq1 + seq2"
   ]
  },
  {
   "cell_type": "markdown",
   "metadata": {},
   "source": [
    "We can also index and slice as though we had strings."
   ]
  },
  {
   "cell_type": "code",
   "execution_count": null,
   "metadata": {},
   "outputs": [],
   "source": [
    "seq1[:2] + seq2[-1]"
   ]
  },
  {
   "cell_type": "markdown",
   "metadata": {},
   "source": [
    "`Seq` objects are immutable, just like strings."
   ]
  },
  {
   "cell_type": "code",
   "execution_count": null,
   "metadata": {},
   "outputs": [],
   "source": [
    "seq1[2] = \"G\""
   ]
  },
  {
   "cell_type": "markdown",
   "metadata": {},
   "source": [
    "There is another type of object called a `MutableSeq`. If we want to support mutability we can convert a `Seq` object to a `MutableSeq` object quite easily."
   ]
  },
  {
   "cell_type": "code",
   "execution_count": null,
   "metadata": {},
   "outputs": [],
   "source": [
    "mut_seq = seq1.tomutable()\n",
    "mut_seq"
   ]
  },
  {
   "cell_type": "code",
   "execution_count": null,
   "metadata": {},
   "outputs": [],
   "source": [
    "mut_seq[0] = \"G\"\n",
    "print(mut_seq)"
   ]
  },
  {
   "cell_type": "markdown",
   "metadata": {},
   "source": [
    "We can also do searching inside sequences."
   ]
  },
  {
   "cell_type": "code",
   "execution_count": null,
   "metadata": {},
   "outputs": [],
   "source": [
    "myseq = Seq(\"CCAGAAACCCGGAA\", generic_dna)\n",
    "\n",
    "#find the first occurence of the pattern\n",
    "print(myseq.find(\"GAA\"))\n",
    "\n",
    "#find the number of non-overlapping occurrences of a pattern\n",
    "print(myseq.count(\"GAA\"))"
   ]
  },
  {
   "cell_type": "markdown",
   "metadata": {},
   "source": [
    "# Database Searching\n",
    "\n",
    "Say you isolated some piece of DNA in the lab and obtained its sequence.\n",
    "\n",
    "You now want to find out which organism that sequence belongs to.\n",
    "\n",
    "You ask a biologist and they tell you to just \"BLAST it\".\n",
    "\n",
    "As you may know already, this is essentially the same as \"Google it\" for biologists.\n",
    "\n",
    "BLAST is an alignment algorithm that searches for your sequence of interest in a huge database of sequences whose origins are known.\n",
    "\n",
    "If you didn't know BioPython, you would take your sequence `AAAAGGAGAGAGAGTTTATA` and go to the [NCBI BLAST web server](https://blast.ncbi.nlm.nih.gov/Blast.cgi?PROGRAM=blastn&PAGE_TYPE=BlastSearch&LINK_LOC=blasthome) and click on buttons like a monkey.\n",
    "\n",
    "Thanks to BioPython we can do this programatically!\n",
    "\n",
    "The `qblast` method from the `Bio.Blast.NCBIWWW` module essentially sends our sequence to the BLAST web server.\n",
    "\n",
    "Here we are using the \"nucleotice BLAST\" algorithm so we say `blastn` and we are using it on the database of all nucleotide sequences, called `nt`.\n"
   ]
  },
  {
   "cell_type": "code",
   "execution_count": null,
   "metadata": {},
   "outputs": [],
   "source": [
    "from Bio.Blast import NCBIWWW\n",
    "\n",
    "result_handle = NCBIWWW.qblast(\"blastn\", \"nt\", Seq(\"AAAAGGAGAGAGAGTTTATA\", generic_dna))"
   ]
  },
  {
   "cell_type": "markdown",
   "metadata": {},
   "source": [
    "We wait a few seconds and get a `result_handle` which is like a temporary open file that we can read from.\n",
    "\n",
    "The format of this file is in XML so not easy to read, thankfully BioPython has an XML parser that extracts all the information for us."
   ]
  },
  {
   "cell_type": "code",
   "execution_count": null,
   "metadata": {},
   "outputs": [],
   "source": [
    "from Bio.Blast import NCBIXML\n",
    "blast_records = NCBIXML.parse(result_handle)"
   ]
  },
  {
   "cell_type": "markdown",
   "metadata": {},
   "source": [
    "We get an \"iterator\" of BLAST record objects, or \"search results\". We can now loop over each of our search results and print some information.\n",
    "\n",
    "Here I am looping over all the results which each have an attribute `alignments` which are the alignments of our query sequence to some organism in the database.\n",
    "\n",
    "The `alignment` attribute itself has other attributes like the `query` sequence, the `length` and `title` of the matching organism.."
   ]
  },
  {
   "cell_type": "code",
   "execution_count": null,
   "metadata": {},
   "outputs": [],
   "source": [
    "for b in blast_records:\n",
    "    for alignment in b.alignments:\n",
    "        for hsp in alignment.hsps:\n",
    "            print('****Alignment****')\n",
    "            print('sequence:', alignment.title)\n",
    "            print('length:', alignment.length)\n",
    "            print('e value:', hsp.expect)\n",
    "            print(hsp.query[0:75] + '...')\n",
    "            print(hsp.match[0:75] + '...')\n",
    "            print(hsp.sbjct[0:75] + '...')"
   ]
  },
  {
   "cell_type": "markdown",
   "metadata": {},
   "source": [
    "# `SeqRecord` and `SeqIO`\n",
    "\n",
    "Often, sequences have some additional information associated to them. \n",
    "\n",
    "A good example was the BLAST exercise which gave us sequences associated to specific organisms, and genomic locations.\n",
    "\n",
    "Ideally we would want to be able to keep this information along with our `Seq` if we have it.\n",
    "\n",
    "BioPython lets us do this with the `SeqRecord` and `SeqIO` classes.\n",
    "\n",
    "\n",
    "## Parsing with `SeqIO`\n",
    "\n",
    "The `SeqIO` class which stands for Sequence Input/Output lets us read and write from various sequence annotation file formats which are common in biological databases.\n",
    "\n",
    "I went to the [GenBank](https://www.ncbi.nlm.nih.gov/genbank/) sequence database and looked for some sequence related to the Bubonic Plague (Yersinia Pestis bacteria) [here](https://www.ncbi.nlm.nih.gov/nuccore/NZ_ADRZ01000932.1?report=fasta).\n",
    "\n",
    "![](https://www.nationalgeographic.com/content/dam/science/photos/000/033/3338.ngsversion.1492437604403.adapt.676.1.jpg)\n",
    "(\"The Triumph of Death by  Pieter Bruegel)\n",
    "\n",
    "We get a `fasta` file which is very common for sequence annotations so BioPython can parse it for us automatically.\n",
    "\n",
    "The annotation for a FASTA sequence is typically held in the header:\n",
    "\n",
    "```\n",
    ">NZ_ADRZ01000932.1 Yersinia pestis biovar Antiqua str. E1979001 Contig_E1979001_19275, whole genome shotgun sequence\n",
    "```\n",
    "\n",
    "The `SeqIO.parse` takes a path to a file and a format, in this case \"fasta\" and produces an iteratror over each entry in the fasta file.\n",
    "\n",
    "Each item produced by the iterator is a `SeqRecords` object.\n"
   ]
  },
  {
   "cell_type": "code",
   "execution_count": null,
   "metadata": {},
   "outputs": [],
   "source": [
    "from Bio import SeqIO\n",
    "\n",
    "records = SeqIO.parse(\"plague.fa\", \"fasta\")\n",
    "for r in records:\n",
    "    print(type(r))\n",
    "    print([a for a in dir(r) if not a.startswith(\"_\")])"
   ]
  },
  {
   "cell_type": "markdown",
   "metadata": {},
   "source": [
    "### `SeqRecord` Objects\n",
    "\n",
    "If you have a file with a single fasta record, you can use the `SeqIO.read()` function.\n"
   ]
  },
  {
   "cell_type": "code",
   "execution_count": null,
   "metadata": {},
   "outputs": [],
   "source": [
    "record = SeqIO.read(\"single_plague.fa\", \"fasta\")"
   ]
  },
  {
   "cell_type": "markdown",
   "metadata": {},
   "source": [
    "The `SeqRecords` object has some useful attributes.\n",
    "\n",
    "The object contains a `Seq` object witih the sequence info."
   ]
  },
  {
   "cell_type": "code",
   "execution_count": null,
   "metadata": {},
   "outputs": [],
   "source": [
    "print(record)"
   ]
  },
  {
   "cell_type": "code",
   "execution_count": null,
   "metadata": {},
   "outputs": [],
   "source": [
    "print(record.seq)"
   ]
  },
  {
   "cell_type": "code",
   "execution_count": null,
   "metadata": {},
   "outputs": [],
   "source": [
    "print(record.id)"
   ]
  },
  {
   "cell_type": "code",
   "execution_count": null,
   "metadata": {},
   "outputs": [],
   "source": [
    "print(record.description)"
   ]
  },
  {
   "cell_type": "markdown",
   "metadata": {},
   "source": [
    "We can also create our own `SeqRecord` objects."
   ]
  },
  {
   "cell_type": "code",
   "execution_count": null,
   "metadata": {},
   "outputs": [],
   "source": [
    "from Bio.Seq import Seq\n",
    "from Bio.SeqRecord import SeqRecord\n",
    "from Bio.Alphabet import IUPAC\n",
    "record = SeqRecord(Seq(\"MKQHKAMIVALIVICITAVVAALVTRKDLCEVHIRTGQTEVAVF\",\n",
    "                       IUPAC.protein),\n",
    "                   id=\"YP_025292.1\", name=\"HokC\",\n",
    "                   description=\"toxic membrane protein, small\")\n",
    "print(record)"
   ]
  },
  {
   "cell_type": "markdown",
   "metadata": {},
   "source": [
    "Then we can write it to FASTA format."
   ]
  },
  {
   "cell_type": "code",
   "execution_count": null,
   "metadata": {},
   "outputs": [],
   "source": [
    "record.format(\"fasta\")"
   ]
  },
  {
   "cell_type": "markdown",
   "metadata": {},
   "source": [
    "And then store it in a file. \n",
    "\n",
    "So now we know how to read sequence information, as well as produce our own sequence records and store them."
   ]
  },
  {
   "cell_type": "code",
   "execution_count": null,
   "metadata": {},
   "outputs": [],
   "source": [
    "with open(\"myfasta.fa\", \"w\") as f:\n",
    "    f.write(record.format(\"fasta\"))\n",
    "    "
   ]
  },
  {
   "cell_type": "markdown",
   "metadata": {},
   "source": [
    "## Making Multiple Sequence Alignments and Phylogenetic Trees\n",
    "\n",
    "Another thing biologists like to do is align (essentially, compare) sequences.\n",
    "\n",
    "If we line up two sequences on top of each other, we can look at the parts where they are different and infer many useful pieces of information.\n",
    "\n",
    "One of these pieces of information is the phylogeny.\n",
    "\n",
    "i.e. we can take a guess at how evolution took place to explain a particular set of observed sequences.\n",
    "\n",
    "\n",
    "\n",
    "### Step 1: Obtain some sequences and align them"
   ]
  },
  {
   "cell_type": "code",
   "execution_count": null,
   "metadata": {},
   "outputs": [],
   "source": [
    "import random\n",
    "\n",
    "#generate some random sequences based on a random seed sequence\n",
    "mut = 0.1\n",
    "BASES = {\"A\", \"C\", \"G\", \"T\"}\n",
    "seqs = []\n",
    "seed = \"\".join([random.choice(list(BASES)) for _ in range(25 + random.choice([-1, 0, 1]))])\n",
    "\n",
    "seq_records = []\n",
    "\n",
    "for i in range(20):\n",
    "    new_seq = \"\".join([b if random.random() > mut else random.choice(list(BASES - {b}))\\\n",
    "        for b in seed])\n",
    "    #create a seq record\n",
    "    seq_records.append(SeqRecord(Seq(new_seq), id=str(i)))\n",
    "    \n",
    "print(seq_records)"
   ]
  },
  {
   "cell_type": "markdown",
   "metadata": {},
   "source": [
    "Now that we have `SeqRecord` objects we can align them.\n",
    "\n",
    "To do so, we need to put them in a `fasta` file.\n",
    "\n",
    "### Step 2: Align the sequences"
   ]
  },
  {
   "cell_type": "code",
   "execution_count": null,
   "metadata": {},
   "outputs": [],
   "source": [
    "#write our sequences to fasta format\n",
    "with open(\"seqs.fasta\", \"w\") as f:\n",
    "    SeqIO.write(seq_records, f, \"fasta\")"
   ]
  },
  {
   "cell_type": "markdown",
   "metadata": {},
   "source": [
    "The next step is to actually align these sequences.\n",
    "\n",
    "BioPython has its own alignment functionalities but it requires some more installations.\n",
    "\n",
    "So let's just use an [online tool](https://www.ebi.ac.uk/Tools/msa/muscle/) which takes a input a `fasta` file which we just created.\n",
    "\n",
    "### Step 3: Load the resulting alignment"
   ]
  },
  {
   "cell_type": "code",
   "execution_count": null,
   "metadata": {},
   "outputs": [],
   "source": [
    "#open the alignmnent file\n",
    "from Bio import AlignIO\n",
    "with open(\"aln.clustal\", \"r\") as aln:\n",
    "    #use AlignIO to read the alignment file in 'clustal' format\n",
    "    alignment = AlignIO.read(aln, \"clustal\")"
   ]
  },
  {
   "cell_type": "markdown",
   "metadata": {},
   "source": [
    "We can parse the alignment with the `AlignIO` module from BioPython.\n",
    "\n",
    "I won't go into detail on this module but it has a lot of useful funcionality for dealing with sequence alignments.\n"
   ]
  },
  {
   "cell_type": "markdown",
   "metadata": {},
   "source": [
    "### Step 4: Use the alignment to obtain a \"distance\" between all pairs of sequences\n",
    "\n",
    "Using the parsed alignment, we can get the distance (or difference) between all the sequences.\n",
    "\n",
    "This just tells us, for each pair of sequences, how different they are."
   ]
  },
  {
   "cell_type": "code",
   "execution_count": null,
   "metadata": {},
   "outputs": [],
   "source": [
    "from Bio.Phylo.TreeConstruction import DistanceCalculator\n",
    "\n",
    "#calculate the distance matrix\n",
    "calculator = DistanceCalculator('identity')\n",
    "#adds distance matrix to the calculator object and returns it\n",
    "dm = calculator.get_distance(alignment)\n",
    "print(dm)"
   ]
  },
  {
   "cell_type": "markdown",
   "metadata": {},
   "source": [
    "### Step 5: Construct a tree from the set of distances\n",
    "\n",
    "And finally, we can construct a phylogenetic tree from the pairwise distances between all the sequences."
   ]
  },
  {
   "cell_type": "code",
   "execution_count": null,
   "metadata": {},
   "outputs": [],
   "source": [
    "from Bio.Phylo.TreeConstruction import DistanceTreeConstructor\n",
    "\n",
    "#initialize a DistanceTreeConstructor object based on our distance calculator object\n",
    "constructor = DistanceTreeConstructor(calculator)\n",
    "\n",
    "#build the tree\n",
    "upgma_tree = constructor.build_tree(alignment)"
   ]
  },
  {
   "cell_type": "markdown",
   "metadata": {},
   "source": [
    "And let's use the `Phylo` module to visualize the result!"
   ]
  },
  {
   "cell_type": "code",
   "execution_count": null,
   "metadata": {},
   "outputs": [],
   "source": [
    "from Bio import Phylo\n",
    "import pylab\n",
    "#draw the tree\n",
    "Phylo.draw(upgma_tree)"
   ]
  }
 ],
 "metadata": {
  "kernelspec": {
   "display_name": "Python 3",
   "language": "python",
   "name": "python3"
  },
  "language_info": {
   "codemirror_mode": {
    "name": "ipython",
    "version": 3
   },
   "file_extension": ".py",
   "mimetype": "text/x-python",
   "name": "python",
   "nbconvert_exporter": "python",
   "pygments_lexer": "ipython3",
   "version": "3.7.3"
  }
 },
 "nbformat": 4,
 "nbformat_minor": 2
}
