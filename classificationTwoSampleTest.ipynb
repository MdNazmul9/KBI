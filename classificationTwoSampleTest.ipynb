{
 "cells": [
  {
   "cell_type": "code",
   "execution_count": 2,
   "metadata": {},
   "outputs": [
    {
     "name": "stdout",
     "output_type": "stream",
     "text": [
      "GO0034613%0%0.5\n"
     ]
    }
   ],
   "source": [
    "#__author__ = 'cenwan'\n",
    "\n",
    "# The Python implementation of Classifier Two-Sample Tests (CTST) for selecting the optimal synthetic protein feature samples.\n",
    "\n",
    "import numpy as np\n",
    "from sklearn.model_selection import LeaveOneOut\n",
    "from sklearn.neighbors import KNeighborsClassifier\n",
    "from sklearn.metrics import accuracy_score\n",
    "\n",
    "#GOTermID='GO0034613'\n",
    "\n",
    "with open(\"C:/Users/User/Desktop/KBI_THESIS/january-2020/FFPredGAN-master/data/GO0034613_Real_Training_Positive.txt\") as f:\n",
    "    MatrixFeatures = [list(x.split(\",\")) for x in f]\n",
    "proteinList = [line[0:1] for line in MatrixFeatures[:]]\n",
    "realFeatures = [line[1:259] for line in MatrixFeatures[:]]\n",
    "realDataset = np.array(realFeatures, dtype='float32')\n",
    "\n",
    "# Adding equal numbers of binary labels\n",
    "label=[]\n",
    "for rowIndex in range(len(realDataset)):\n",
    "    label.append(1)\n",
    "for rowIndex in range(len(realDataset)):\n",
    "    label.append(0)\n",
    "labelArray=np.asarray(label)\n",
    "\n",
    "opt_diff_accuracy_05=0.5\n",
    "opt_Epoch=0\n",
    "opt_accuracy=0\n",
    "for indexEpoch in range(0, 500):\n",
    "    epoch = indexEpoch * 200\n",
    "    with open(\"C:/Users/User/Desktop/KBI_THESIS/january-2020/FFPredGAN-master/data/GO0034613_Synthetic_Training_Positive.txt\") as f:\n",
    "         MatrixFeatures = [list(x.split(\",\")) for x in f]\n",
    "    fakeFeatures = [line[0:258] for line in MatrixFeatures[:]]\n",
    "    fakedataset = np.array(fakeFeatures, dtype='float32')\n",
    "\n",
    "    realFakeFeatures=np.vstack((realDataset, fakedataset))\n",
    "\n",
    "    prediction_list=[]\n",
    "    real_list=[]\n",
    "    loo = LeaveOneOut()\n",
    "    loo.get_n_splits(realFakeFeatures)\n",
    "    for train_index, test_index in loo.split(realFakeFeatures):\n",
    "        X_train, X_test = realFakeFeatures[train_index], realFakeFeatures[test_index]\n",
    "        y_train, y_test = labelArray[train_index], labelArray[test_index]\n",
    "        knn = KNeighborsClassifier(n_neighbors=1).fit(X_train, y_train)\n",
    "        predicted_y = knn.predict(X_test)\n",
    "        prediction_list.append(predicted_y)\n",
    "        real_list.append(y_test)\n",
    "\n",
    "    accuracy=accuracy_score(real_list, prediction_list)\n",
    "    diff_accuracy_05=abs(accuracy-0.5)\n",
    "    if diff_accuracy_05 < opt_diff_accuracy_05:\n",
    "       opt_diff_accuracy_05=diff_accuracy_05\n",
    "       opt_Epoch=epoch\n",
    "       opt_accuracy=accuracy\n",
    "print(GOTermID+\"%\"+str(opt_Epoch)+\"%\"+str(opt_accuracy))\n",
    "\n"
   ]
  },
  {
   "cell_type": "code",
   "execution_count": null,
   "metadata": {},
   "outputs": [],
   "source": []
  }
 ],
 "metadata": {
  "kernelspec": {
   "display_name": "Python 3",
   "language": "python",
   "name": "python3"
  },
  "language_info": {
   "codemirror_mode": {
    "name": "ipython",
    "version": 3
   },
   "file_extension": ".py",
   "mimetype": "text/x-python",
   "name": "python",
   "nbconvert_exporter": "python",
   "pygments_lexer": "ipython3",
   "version": "3.7.3"
  }
 },
 "nbformat": 4,
 "nbformat_minor": 2
}
